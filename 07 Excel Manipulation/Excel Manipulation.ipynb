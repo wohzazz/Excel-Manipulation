{
 "cells": [
  {
   "cell_type": "markdown",
   "metadata": {},
   "source": [
    "**Table of contents**<a id='toc0_'></a>    \n",
    "- [get properties of Excel workbook/worksheet](#toc1_)    \n",
    "  - [get column range of worksheet](#toc1_1_)    \n",
    "- [copy cell (incl. format) to a new worksheet identical positions](#toc2_)    \n",
    "- [open workbook and copy contents to an existing workbook](#toc3_)    \n",
    "- [open spreadsheet and copy specific cell range to another sheet](#toc4_)    \n",
    "    - [create function from above](#toc4_1_1_)    \n",
    "- [duplicate worksheet and rename](#toc5_)    \n",
    "\n",
    "<!-- vscode-jupyter-toc-config\n",
    "\tnumbering=false\n",
    "\tanchor=true\n",
    "\tflat=false\n",
    "\tminLevel=1\n",
    "\tmaxLevel=6\n",
    "\t/vscode-jupyter-toc-config -->\n",
    "<!-- THIS CELL WILL BE REPLACED ON TOC UPDATE. DO NOT WRITE YOUR TEXT IN THIS CELL -->"
   ]
  },
  {
   "cell_type": "code",
   "execution_count": null,
   "metadata": {},
   "outputs": [],
   "source": []
  },
  {
   "cell_type": "markdown",
   "metadata": {},
   "source": [
    "# <a id='toc1_'></a>[get properties of Excel workbook/worksheet](#toc0_)"
   ]
  },
  {
   "cell_type": "markdown",
   "metadata": {},
   "source": [
    "## <a id='toc1_1_'></a>[get column range of worksheet](#toc0_)"
   ]
  },
  {
   "cell_type": "code",
   "execution_count": 155,
   "metadata": {},
   "outputs": [
    {
     "name": "stdout",
     "output_type": "stream",
     "text": [
      "Min column is 2 (column number)\n",
      "Max column is 3 (column number)\n",
      "Min row is 2\n",
      "Max row is 5\n",
      "Min column is B (column letter)\n",
      "Max column is C (column letter)\n"
     ]
    }
   ],
   "source": [
    "import openpyxl\n",
    "from openpyxl.utils import get_column_letter\n",
    "\n",
    "file_path = 'sheet_to_copy_test.xlsx' \n",
    "wb = openpyxl.load_workbook(file_path)\n",
    "ws = wb['Contents to copy']\n",
    "\n",
    "print('Min column is {} (column number)'.format(ws.min_column))\n",
    "print('Max column is {} (column number)'.format(ws.max_column))\n",
    "\n",
    "print('Min row is {}'.format(ws.min_row))\n",
    "print('Max row is {}'.format(ws.max_row))\n",
    "\n",
    "print('Min column is {} (column letter)'.format(get_column_letter(ws.min_column)))\n",
    "print('Max column is {} (column letter)'.format(get_column_letter(ws.max_column)))\n",
    "\n",
    "# save file\n",
    "wb.save(file_path)\n",
    "\n",
    "# open manipulated read Excel file\n",
    "# os.startfile(file_path)\n"
   ]
  },
  {
   "cell_type": "markdown",
   "metadata": {},
   "source": [
    "# <a id='toc2_'></a>[copy cell (incl. format) to a new worksheet identical positions](#toc0_)"
   ]
  },
  {
   "cell_type": "code",
   "execution_count": 19,
   "metadata": {},
   "outputs": [],
   "source": [
    "import openpyxl\n",
    "import os\n",
    "from openpyxl.styles import Font, PatternFill, Border, Side, Alignment\n",
    "from copy import copy\n",
    "\n",
    "output_file = 'data/Create_Excel_WorkBook_Example.xlsx' \n",
    "\n",
    "# create workbook object\n",
    "wb = openpyxl.Workbook()\n",
    "\n",
    "\n",
    "#define colours\n",
    "navy = '000080'\n",
    "\n",
    "\n",
    "#create sheet \n",
    "sheet_name = 'Sheet to copy'\n",
    "ws = wb.create_sheet(sheet_name, 0)\n",
    "# ws = wb.active\n",
    "\n",
    "\n",
    "cell = ws.cell(row=1, column=1)\n",
    "cell.value = 'ABC'\n",
    "cell.font = Font(name = 'Calibri', size = 15, color = navy, bold =True)\n",
    "\n",
    "# specify sheet to copy\n",
    "sheet_to_copy = wb['Sheet to copy']\n",
    "copy_destination = wb['Sheet']\n",
    "for row in sheet_to_copy.rows:\n",
    "    for cell in row:\n",
    "        new_cell = copy_destination.cell(row=cell.row, column=cell.col_idx,\n",
    "                value= cell.value)\n",
    "        if cell.has_style:\n",
    "            new_cell.font = copy(cell.font)\n",
    "            new_cell.border = copy(cell.border)\n",
    "            new_cell.fill = copy(cell.fill)\n",
    "            new_cell.number_format = copy(cell.number_format)\n",
    "            new_cell.protection = copy(cell.protection)\n",
    "            new_cell.alignment = copy(cell.alignment)\n",
    "\n",
    "# save the Excel file\n",
    "wb.save(output_file)\n",
    "\n",
    "file_path = output_file\n",
    "os.startfile(file_path)\n"
   ]
  },
  {
   "cell_type": "markdown",
   "metadata": {},
   "source": [
    "# <a id='toc3_'></a>[open workbook and copy contents to an existing workbook](#toc0_)\n",
    "\n",
    "refer to https://stackoverflow.com/questions/44593705/how-to-copy-over-an-excel-sheet-to-another-workbook-in-python\n"
   ]
  },
  {
   "cell_type": "code",
   "execution_count": 137,
   "metadata": {},
   "outputs": [
    {
     "data": {
      "application/javascript": "\n        if (window._pyforest_update_imports_cell) { window._pyforest_update_imports_cell('import os'); }\n    ",
      "text/plain": [
       "<IPython.core.display.Javascript object>"
      ]
     },
     "metadata": {},
     "output_type": "display_data"
    }
   ],
   "source": [
    "\n",
    "import openpyxl as xl\n",
    "from copy import copy\n",
    "from openpyxl.worksheet.cell_range import CellRange\n",
    "\n",
    "path1 = 'sheet_to_copy_test.xlsx'\n",
    "\n",
    "wb = xl.load_workbook(filename=path1)\n",
    "# ws1 = wb.worksheets[0]\n",
    "ws1 = wb['Contents to copy']\n",
    "ws2 = wb.create_sheet('Copied contents!', 1)\n",
    "\n",
    "\n",
    "\n",
    "for row in ws1:\n",
    "    for cell in row:\n",
    "        new_cell = ws2[cell.coordinate]\n",
    "        new_cell.value = cell.value\n",
    "        if cell.has_style:\n",
    "            new_cell.font = copy(cell.font)\n",
    "            new_cell.border = copy(cell.border)\n",
    "            new_cell.fill = copy(cell.fill)\n",
    "            new_cell.number_format = copy(cell.number_format)\n",
    "            new_cell.protection = copy(cell.protection)\n",
    "            new_cell.alignment = copy(cell.alignment)\n",
    "            # new_cell.style = copy(cell.style)\n",
    "\n",
    "# copy merged cells\n",
    "for mcr in ws1.merged_cells:\n",
    "    cr = CellRange(mcr.coord)\n",
    "    # print(cr)\n",
    "    # ws1.merge_cells(cr)\n",
    "    # print(cr.coord)\n",
    "    ws2.merge_cells('{}'.format(cr))\n",
    "\n",
    "\n",
    "# delete worksheet  'Copied contents!1' if it exists\n",
    "try:\n",
    "    wb.remove(wb['Copied contents!1'])\n",
    "except:\n",
    "    pass \n",
    "\n",
    "# save file\n",
    "wb.save(path1)\n",
    "\n",
    "# open file to review\n",
    "file_path = path1\n",
    "os.startfile(file_path)"
   ]
  },
  {
   "cell_type": "markdown",
   "metadata": {},
   "source": [
    "# <a id='toc4_'></a>[open spreadsheet and copy specific cell range to another sheet](#toc0_)"
   ]
  },
  {
   "cell_type": "code",
   "execution_count": 140,
   "metadata": {},
   "outputs": [
    {
     "data": {
      "application/javascript": "\n        if (window._pyforest_update_imports_cell) { window._pyforest_update_imports_cell('import os'); }\n    ",
      "text/plain": [
       "<IPython.core.display.Javascript object>"
      ]
     },
     "metadata": {},
     "output_type": "display_data"
    }
   ],
   "source": [
    "\n",
    "import openpyxl as xl\n",
    "from copy import copy\n",
    "from openpyxl.worksheet.cell_range import CellRange\n",
    "from openpyxl.utils import get_column_letter, column_index_from_string\n",
    "\n",
    "path1 = 'Example copy elements.xlsx'\n",
    "wb = xl.load_workbook(path1)\n",
    "\n",
    "\n",
    "\n",
    "######################################################################\n",
    "ws = wb['AU']\n",
    "# print(ws.max_column)\n",
    "# cr = CellRange('A2:B5')\n",
    "cr = 'A2:B5' # no need to create CellRange object\n",
    "cr_start = cr.split(':')[0]\n",
    "cr_end = cr.split(':')[1]\n",
    "\n",
    "minr = coordinate_to_tuple(cr_start)[0]\n",
    "minc = coordinate_to_tuple(cr_start)[1]\n",
    "maxr = coordinate_to_tuple(cr_end)[0]\n",
    "maxc = coordinate_to_tuple(cr_end)[1]\n",
    "\n",
    "# print(minr, maxr)\n",
    "\n",
    "ws_tar = wb['All countries']\n",
    "\n",
    "write_row_offset = 0\n",
    "write_col_offset = 0\n",
    "\n",
    "\n",
    "for i in range (minr, (maxr-minr+1)+1):\n",
    "    # print(i)\n",
    "    for j in range (minc, (maxc-minc+1)+1):\n",
    "        # print(j)\n",
    "        new_cell = ws_tar.cell(row = i+write_row_offset, column = j+write_col_offset)\n",
    "        cell = ws.cell(row=i, column=j) # cell to copy\n",
    "        new_cell.value = cell.value\n",
    "        if cell.has_style:\n",
    "            new_cell.font = copy(cell.font)\n",
    "            new_cell.border = copy(cell.border)\n",
    "            new_cell.fill = copy(cell.fill)\n",
    "            new_cell.number_format = copy(cell.number_format)\n",
    "            new_cell.protection = copy(cell.protection)\n",
    "            new_cell.alignment = copy(cell.alignment)\n",
    "####################################################################################\n",
    "ws = wb['US']\n",
    "# cr = CellRange('A2:B5')\n",
    "cr = 'A2:B5' # no need to create CellRange object\n",
    "cr_start = cr.split(':')[0]\n",
    "cr_end = cr.split(':')[1]\n",
    "\n",
    "minr = coordinate_to_tuple(cr_start)[0]\n",
    "minc = coordinate_to_tuple(cr_start)[1]\n",
    "maxr = coordinate_to_tuple(cr_end)[0]\n",
    "maxc = coordinate_to_tuple(cr_end)[1]\n",
    "\n",
    "# print(minr, maxr)\n",
    "\n",
    "ws_tar = wb['All countries']\n",
    "\n",
    "write_row_offset = 0\n",
    "write_col_offset = 3\n",
    "\n",
    "\n",
    "for i in range (minr, (maxr-minr+1)+1):\n",
    "    # print(i)\n",
    "    for j in range (minc, (maxc-minc+1)+1):\n",
    "        # print(j)\n",
    "        new_cell = ws_tar.cell(row = i+write_row_offset, column = j+write_col_offset)\n",
    "        cell = ws.cell(row=i, column=j) # cell to copy\n",
    "        new_cell.value = cell.value\n",
    "        if cell.has_style:\n",
    "            new_cell.font = copy(cell.font)\n",
    "            new_cell.border = copy(cell.border)\n",
    "            new_cell.fill = copy(cell.fill)\n",
    "            new_cell.number_format = copy(cell.number_format)\n",
    "            new_cell.protection = copy(cell.protection)\n",
    "            new_cell.alignment = copy(cell.alignment)\n",
    "####################################################################################\n",
    "\n",
    "\n",
    "\n",
    "# save file\n",
    "wb.save(path1)\n",
    "\n",
    "# open file to review\n",
    "file_path = path1\n",
    "os.startfile(file_path)"
   ]
  },
  {
   "cell_type": "markdown",
   "metadata": {},
   "source": [
    "### <a id='toc4_1_1_'></a>[create function from above](#toc0_)"
   ]
  },
  {
   "cell_type": "code",
   "execution_count": 136,
   "metadata": {},
   "outputs": [
    {
     "data": {
      "application/javascript": "\n        if (window._pyforest_update_imports_cell) { window._pyforest_update_imports_cell('import os'); }\n    ",
      "text/plain": [
       "<IPython.core.display.Javascript object>"
      ]
     },
     "metadata": {},
     "output_type": "display_data"
    }
   ],
   "source": [
    "\n",
    "import openpyxl as xl\n",
    "from copy import copy\n",
    "from openpyxl.worksheet.cell_range import CellRange\n",
    "\n",
    "path1 = 'Example copy elements.xlsx'\n",
    "wb = xl.load_workbook(path1)\n",
    "\n",
    "\n",
    "\n",
    "######################################################################\n",
    "\n",
    "\n",
    "def copy_cell_range(worksheet, write_row_offset, write_col_offset):\n",
    "    \"\"\"by default the specified cell range will be copied to the exact same position/cell range in the target worksheet\n",
    "    the write_row_offset and write_col_offset arguments can move the cursor to other parts of the target Excel worksheet \n",
    "    before pasting    \n",
    "    \"\"\"\n",
    "\n",
    "    ws = wb[worksheet]\n",
    "    # cr = CellRange('A2:B5')\n",
    "    cr = 'A2:B5' # no need to create CellRange object\n",
    "    cr_start = cr.split(':')[0]\n",
    "    cr_end = cr.split(':')[1]\n",
    "\n",
    "    minr = coordinate_to_tuple(cr_start)[0]\n",
    "    minc = coordinate_to_tuple(cr_start)[1]\n",
    "    maxr = coordinate_to_tuple(cr_end)[0]\n",
    "    maxc = coordinate_to_tuple(cr_end)[1]\n",
    "\n",
    "    # print(minr, maxr)\n",
    "\n",
    "    ws_tar = wb['All countries']\n",
    "\n",
    "    write_row_offset = write_row_offset\n",
    "    write_col_offset = write_col_offset\n",
    "\n",
    "\n",
    "    for i in range (minr, maxr+1):\n",
    "        # print(i)\n",
    "        for j in range (minc, maxc+1):\n",
    "            # print(j)\n",
    "            new_cell = ws_tar.cell(row = i+write_row_offset, column = j+write_col_offset)\n",
    "            cell = ws.cell(row=i, column=j) # cell to copy\n",
    "            new_cell.value = cell.value\n",
    "            if cell.has_style:\n",
    "                new_cell.font = copy(cell.font)\n",
    "                new_cell.border = copy(cell.border)\n",
    "                new_cell.fill = copy(cell.fill)\n",
    "                new_cell.number_format = copy(cell.number_format)\n",
    "                new_cell.protection = copy(cell.protection)\n",
    "                new_cell.alignment = copy(cell.alignment)\n",
    "\n",
    "\n",
    "copy_cell_range('AU',0,0)\n",
    "copy_cell_range('US',0,2)\n",
    "copy_cell_range('US',4,2)\n",
    "\n",
    "copy_cell_range('AU',0,10)\n",
    "\n",
    "####################################################################################\n",
    "\n",
    "\n",
    "\n",
    "# save file\n",
    "wb.save(path1)\n",
    "\n",
    "# open file to review\n",
    "file_path = path1\n",
    "os.startfile(file_path)"
   ]
  },
  {
   "cell_type": "markdown",
   "metadata": {},
   "source": [
    "# <a id='toc5_'></a>[duplicate worksheet and rename](#toc0_)\n",
    " - strictly speaking this is not a 'duplicate' method but a 'copy'\n",
    " - also note due to limitations with openpyxl, conditional formatting is not copied\n",
    " - from within a single Excel file\n",
    " - the new worksheet has a 'copy' suffix at the end"
   ]
  },
  {
   "cell_type": "code",
   "execution_count": 57,
   "metadata": {},
   "outputs": [
    {
     "data": {
      "application/javascript": "\n        if (window._pyforest_update_imports_cell) { window._pyforest_update_imports_cell('import os'); }\n    ",
      "text/plain": [
       "<IPython.core.display.Javascript object>"
      ]
     },
     "metadata": {},
     "output_type": "display_data"
    }
   ],
   "source": [
    "import openpyxl as xl\n",
    "\n",
    "\n",
    "path1 = 'sheet_to_copy_test.xlsx'\n",
    "wb = xl.load_workbook(filename=path1)\n",
    "ws1 = wb['Contents to copy']\n",
    "# create a duplicate of ws1, new sheet should be suffixed with ' Copy' at the end\n",
    "wb.copy_worksheet(ws1)\n",
    "\n",
    "\n",
    "\n",
    "\n",
    "# rename sheet\n",
    "ws = wb['Contents to copy Copy']  # point to the newly created copied worksheet\n",
    "ws.title = 'Copied using copy_worksheet' # set the name of the newly created worksheet. i.e. effectively rename the worksheet\n",
    "\n",
    "# save\n",
    "wb.save(path1)\n",
    "\n",
    "# open file to review\n",
    "file_path = path1\n",
    "os.startfile(file_path)"
   ]
  },
  {
   "cell_type": "code",
   "execution_count": null,
   "metadata": {},
   "outputs": [],
   "source": []
  },
  {
   "cell_type": "code",
   "execution_count": null,
   "metadata": {},
   "outputs": [],
   "source": []
  }
 ],
 "metadata": {
  "kernelspec": {
   "display_name": "base",
   "language": "python",
   "name": "python3"
  },
  "language_info": {
   "codemirror_mode": {
    "name": "ipython",
    "version": 3
   },
   "file_extension": ".py",
   "mimetype": "text/x-python",
   "name": "python",
   "nbconvert_exporter": "python",
   "pygments_lexer": "ipython3",
   "version": "3.9.12"
  },
  "orig_nbformat": 4
 },
 "nbformat": 4,
 "nbformat_minor": 2
}
