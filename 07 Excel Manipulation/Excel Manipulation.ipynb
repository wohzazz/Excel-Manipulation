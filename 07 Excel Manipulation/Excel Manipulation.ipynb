{
 "cells": [
  {
   "cell_type": "code",
   "execution_count": null,
   "metadata": {},
   "outputs": [],
   "source": []
  },
  {
   "cell_type": "code",
   "execution_count": null,
   "metadata": {},
   "outputs": [],
   "source": []
  },
  {
   "cell_type": "markdown",
   "metadata": {},
   "source": [
    "# copy cell (incl. format) to a new worksheet identical positions"
   ]
  },
  {
   "cell_type": "code",
   "execution_count": 19,
   "metadata": {},
   "outputs": [],
   "source": [
    "import openpyxl\n",
    "import os\n",
    "from openpyxl.styles import Font, PatternFill, Border, Side, Alignment\n",
    "from copy import copy\n",
    "\n",
    "output_file = 'data/Create_Excel_WorkBook_Example.xlsx' \n",
    "\n",
    "# create workbook object\n",
    "wb = openpyxl.Workbook()\n",
    "\n",
    "\n",
    "#define colours\n",
    "navy = '000080'\n",
    "\n",
    "\n",
    "#create sheet \n",
    "sheet_name = 'Sheet to copy'\n",
    "ws = wb.create_sheet(sheet_name, 0)\n",
    "# ws = wb.active\n",
    "\n",
    "\n",
    "cell = ws.cell(row=1, column=1)\n",
    "cell.value = 'ABC'\n",
    "cell.font = Font(name = 'Calibri', size = 15, color = navy, bold =True)\n",
    "\n",
    "# specify sheet to copy\n",
    "sheet_to_copy = wb['Sheet to copy']\n",
    "copy_destination = wb['Sheet']\n",
    "for row in sheet_to_copy.rows:\n",
    "    for cell in row:\n",
    "        new_cell = copy_destination.cell(row=cell.row, column=cell.col_idx,\n",
    "                value= cell.value)\n",
    "        if cell.has_style:\n",
    "            new_cell.font = copy(cell.font)\n",
    "            new_cell.border = copy(cell.border)\n",
    "            new_cell.fill = copy(cell.fill)\n",
    "            new_cell.number_format = copy(cell.number_format)\n",
    "            new_cell.protection = copy(cell.protection)\n",
    "            new_cell.alignment = copy(cell.alignment)\n",
    "\n",
    "# save the Excel file\n",
    "wb.save(output_file)\n",
    "\n",
    "file_path = output_file\n",
    "os.startfile(file_path)\n"
   ]
  },
  {
   "attachments": {},
   "cell_type": "markdown",
   "metadata": {},
   "source": [
    "# open workbook and copy contents to an existing workbook\n",
    "\n",
    "refer to https://stackoverflow.com/questions/44593705/how-to-copy-over-an-excel-sheet-to-another-workbook-in-python\n"
   ]
  },
  {
   "cell_type": "code",
   "execution_count": 45,
   "metadata": {},
   "outputs": [
    {
     "name": "stderr",
     "output_type": "stream",
     "text": [
      "e:\\Python\\lib\\site-packages\\openpyxl\\worksheet\\_reader.py:312: UserWarning: Unknown extension is not supported and will be removed\n",
      "  warn(msg)\n",
      "e:\\Python\\lib\\site-packages\\openpyxl\\worksheet\\_reader.py:312: UserWarning: Conditional Formatting extension is not supported and will be removed\n",
      "  warn(msg)\n"
     ]
    },
    {
     "data": {
      "application/javascript": "\n        if (window._pyforest_update_imports_cell) { window._pyforest_update_imports_cell('import os'); }\n    ",
      "text/plain": [
       "<IPython.core.display.Javascript object>"
      ]
     },
     "metadata": {},
     "output_type": "display_data"
    }
   ],
   "source": [
    "\n",
    "import openpyxl as xl\n",
    "from copy import copy\n",
    "from openpyxl.worksheet.cell_range import CellRange\n",
    "\n",
    "path1 = 'sheet_to_copy_test.xlsx'\n",
    "\n",
    "wb = xl.load_workbook(filename=path1)\n",
    "# ws1 = wb.worksheets[0]\n",
    "ws1 = wb['Contents to copy']\n",
    "ws2 = wb.create_sheet('Copied contents!', 1)\n",
    "\n",
    "\n",
    "\n",
    "for row in ws1:\n",
    "    for cell in row:\n",
    "        new_cell = ws2[cell.coordinate]\n",
    "        new_cell.value = cell.value\n",
    "        if cell.has_style:\n",
    "            new_cell.font = copy(cell.font)\n",
    "            new_cell.border = copy(cell.border)\n",
    "            new_cell.fill = copy(cell.fill)\n",
    "            new_cell.number_format = copy(cell.number_format)\n",
    "            new_cell.protection = copy(cell.protection)\n",
    "            new_cell.alignment = copy(cell.alignment)\n",
    "            # new_cell.style = copy(cell.style)\n",
    "\n",
    "# copy merged cells\n",
    "for mcr in ws1.merged_cells:\n",
    "    cr = CellRange(mcr.coord)\n",
    "    # print(cr)\n",
    "    # ws1.merge_cells(cr)\n",
    "    # print(cr.coord)\n",
    "    ws2.merge_cells('{}'.format(cr))\n",
    "\n",
    "\n",
    "# delete worksheet  'Copied contents!1' if it exists\n",
    "try:\n",
    "    wb.remove(wb['Copied contents!1'])\n",
    "except:\n",
    "    pass \n",
    "\n",
    "# save file\n",
    "wb.save(path1)\n",
    "\n",
    "# open file to review\n",
    "file_path = path1\n",
    "os.startfile(file_path)"
   ]
  },
  {
   "cell_type": "markdown",
   "metadata": {},
   "source": [
    "# open spreadsheet and copy specific cell range to another sheet"
   ]
  },
  {
   "cell_type": "code",
   "execution_count": 81,
   "metadata": {},
   "outputs": [
    {
     "data": {
      "application/javascript": "\n        if (window._pyforest_update_imports_cell) { window._pyforest_update_imports_cell('import os'); }\n    ",
      "text/plain": [
       "<IPython.core.display.Javascript object>"
      ]
     },
     "metadata": {},
     "output_type": "display_data"
    }
   ],
   "source": [
    "\n",
    "import openpyxl as xl\n",
    "from copy import copy\n",
    "from openpyxl.worksheet.cell_range import CellRange\n",
    "\n",
    "path1 = 'Example copy elements.xlsx'\n",
    "wb = xl.load_workbook(path1)\n",
    "\n",
    "\n",
    "\n",
    "######################################################################\n",
    "ws = wb['AU']\n",
    "cr = CellRange('A2:B5')\n",
    "\n",
    "mr = ws.max_row\n",
    "mc = ws.max_column\n",
    "\n",
    "ws_tar = wb['All countries']\n",
    "\n",
    "write_row_offset = 0\n",
    "write_col_offset = 0\n",
    "\n",
    "\n",
    "for i in range (1, mr + 1):\n",
    "    for j in range (1, mc + 1):\n",
    "        new_cell = ws_tar.cell(row = i+write_row_offset, column = j+write_col_offset)\n",
    "        cell = ws.cell(row=i, column=j) # cell to copy\n",
    "        new_cell.value = cell.value\n",
    "        if cell.has_style:\n",
    "            new_cell.font = copy(cell.font)\n",
    "            new_cell.border = copy(cell.border)\n",
    "            new_cell.fill = copy(cell.fill)\n",
    "            new_cell.number_format = copy(cell.number_format)\n",
    "            new_cell.protection = copy(cell.protection)\n",
    "            new_cell.alignment = copy(cell.alignment)\n",
    "####################################################################################\n",
    "ws = wb['US']\n",
    "cr = CellRange('A2:B5')\n",
    "\n",
    "mr = ws.max_row\n",
    "mc = ws.max_column\n",
    "\n",
    "ws_tar = wb['All countries']\n",
    "\n",
    "write_row_offset = 0\n",
    "write_col_offset = 2\n",
    "\n",
    "\n",
    "for i in range (1, mr + 1):\n",
    "    for j in range (1, mc + 1):\n",
    "        new_cell = ws_tar.cell(row = i+write_row_offset, column = j+write_col_offset)\n",
    "        cell = ws.cell(row=i, column=j) # cell to copy\n",
    "        new_cell.value = cell.value\n",
    "        if cell.has_style:\n",
    "            new_cell.font = copy(cell.font)\n",
    "            new_cell.border = copy(cell.border)\n",
    "            new_cell.fill = copy(cell.fill)\n",
    "            new_cell.number_format = copy(cell.number_format)\n",
    "            new_cell.protection = copy(cell.protection)\n",
    "            new_cell.alignment = copy(cell.alignment)\n",
    "####################################################################################\n",
    "\n",
    "\n",
    "\n",
    "# save file\n",
    "wb.save(path1)\n",
    "\n",
    "# open file to review\n",
    "file_path = path1\n",
    "os.startfile(file_path)"
   ]
  },
  {
   "cell_type": "markdown",
   "metadata": {},
   "source": [
    "### create function from above"
   ]
  },
  {
   "cell_type": "code",
   "execution_count": 82,
   "metadata": {},
   "outputs": [
    {
     "data": {
      "application/javascript": "\n        if (window._pyforest_update_imports_cell) { window._pyforest_update_imports_cell('import os'); }\n    ",
      "text/plain": [
       "<IPython.core.display.Javascript object>"
      ]
     },
     "metadata": {},
     "output_type": "display_data"
    }
   ],
   "source": [
    "\n",
    "import openpyxl as xl\n",
    "from copy import copy\n",
    "from openpyxl.worksheet.cell_range import CellRange\n",
    "\n",
    "path1 = 'Example copy elements.xlsx'\n",
    "wb = xl.load_workbook(path1)\n",
    "\n",
    "\n",
    "\n",
    "######################################################################\n",
    "\n",
    "\n",
    "def copy_cell_range(worksheet, write_row_offset, write_col_offset):\n",
    "    ws = wb[worksheet] # 'AU'\n",
    "    cr = CellRange('A2:B5')\n",
    "    mr = ws.max_row\n",
    "    mc = ws.max_column\n",
    "\n",
    "    ws_tar = wb['All countries']\n",
    "\n",
    "    write_row_offset = write_row_offset # 0\n",
    "    write_col_offset = write_col_offset # 0\n",
    "\n",
    "\n",
    "    for i in range (1, mr + 1):\n",
    "        for j in range (1, mc + 1):\n",
    "            new_cell = ws_tar.cell(row = i+write_row_offset, column = j+write_col_offset)\n",
    "            cell = ws.cell(row=i, column=j) # cell to copy\n",
    "            new_cell.value = cell.value\n",
    "            if cell.has_style:\n",
    "                new_cell.font = copy(cell.font)\n",
    "                new_cell.border = copy(cell.border)\n",
    "                new_cell.fill = copy(cell.fill)\n",
    "                new_cell.number_format = copy(cell.number_format)\n",
    "                new_cell.protection = copy(cell.protection)\n",
    "                new_cell.alignment = copy(cell.alignment)\n",
    "\n",
    "copy_cell_range('AU',0,0)\n",
    "copy_cell_range('US',0,2)\n",
    "\n",
    "copy_cell_range('AU',0,10)\n",
    "\n",
    "####################################################################################\n",
    "\n",
    "\n",
    "\n",
    "# save file\n",
    "wb.save(path1)\n",
    "\n",
    "# open file to review\n",
    "file_path = path1\n",
    "os.startfile(file_path)"
   ]
  },
  {
   "attachments": {},
   "cell_type": "markdown",
   "metadata": {},
   "source": [
    "# duplicate worksheet and rename\n",
    " - strictly speaking this is not a 'duplicate' method but a 'copy'\n",
    " - also note due to limitations with openpyxl, conditional formatting is not copied\n",
    " - from within a single Excel file\n",
    " - the new worksheet has a 'copy' suffix at the end"
   ]
  },
  {
   "cell_type": "code",
   "execution_count": 57,
   "metadata": {},
   "outputs": [
    {
     "data": {
      "application/javascript": "\n        if (window._pyforest_update_imports_cell) { window._pyforest_update_imports_cell('import os'); }\n    ",
      "text/plain": [
       "<IPython.core.display.Javascript object>"
      ]
     },
     "metadata": {},
     "output_type": "display_data"
    }
   ],
   "source": [
    "import openpyxl as xl\n",
    "\n",
    "\n",
    "path1 = 'sheet_to_copy_test.xlsx'\n",
    "wb = xl.load_workbook(filename=path1)\n",
    "ws1 = wb['Contents to copy']\n",
    "# create a duplicate of ws1, new sheet should be suffixed with ' Copy' at the end\n",
    "wb.copy_worksheet(ws1)\n",
    "\n",
    "\n",
    "\n",
    "\n",
    "# rename sheet\n",
    "ws = wb['Contents to copy Copy']  # point to the newly created copied worksheet\n",
    "ws.title = 'Copied using copy_worksheet' # set the name of the newly created worksheet. i.e. effectively rename the worksheet\n",
    "\n",
    "# save\n",
    "wb.save(path1)\n",
    "\n",
    "# open file to review\n",
    "file_path = path1\n",
    "os.startfile(file_path)"
   ]
  },
  {
   "cell_type": "code",
   "execution_count": null,
   "metadata": {},
   "outputs": [],
   "source": []
  },
  {
   "cell_type": "code",
   "execution_count": null,
   "metadata": {},
   "outputs": [],
   "source": []
  }
 ],
 "metadata": {
  "kernelspec": {
   "display_name": "base",
   "language": "python",
   "name": "python3"
  },
  "language_info": {
   "codemirror_mode": {
    "name": "ipython",
    "version": 3
   },
   "file_extension": ".py",
   "mimetype": "text/x-python",
   "name": "python",
   "nbconvert_exporter": "python",
   "pygments_lexer": "ipython3",
   "version": "3.9.12"
  },
  "orig_nbformat": 4
 },
 "nbformat": 4,
 "nbformat_minor": 2
}
