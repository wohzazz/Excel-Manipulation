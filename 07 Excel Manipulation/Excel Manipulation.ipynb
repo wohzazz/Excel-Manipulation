{
 "cells": [
  {
   "cell_type": "code",
   "execution_count": 19,
   "metadata": {},
   "outputs": [],
   "source": [
    "import openpyxl\n",
    "import os\n",
    "from openpyxl.styles import Font, PatternFill, Border, Side, Alignment\n",
    "from copy import copy\n",
    "\n",
    "output_file = 'Create_Excel_WorkBook_Example.xlsx' \n",
    "\n",
    "# create workbook object\n",
    "wb = openpyxl.Workbook()\n",
    "\n",
    "\n",
    "#define colours\n",
    "navy = '000080'\n",
    "\n",
    "\n",
    "#create sheet \n",
    "sheet_name = 'Sheet to copy'\n",
    "ws = wb.create_sheet(sheet_name, 0)\n",
    "# ws = wb.active\n",
    "\n",
    "\n",
    "cell = ws.cell(row=1, column=1)\n",
    "cell.value = 'ABC'\n",
    "cell.font = Font(name = 'Calibri', size = 15, color = navy, bold =True)\n",
    "\n",
    "# specify sheet to copy\n",
    "sheet_to_copy = wb['Sheet to copy']\n",
    "copy_destination = wb['Sheet']\n",
    "for row in sheet_to_copy.rows:\n",
    "    for cell in row:\n",
    "        new_cell = copy_destination.cell(row=cell.row, column=cell.col_idx,\n",
    "                value= cell.value)\n",
    "        if cell.has_style:\n",
    "            new_cell.font = copy(cell.font)\n",
    "            new_cell.border = copy(cell.border)\n",
    "            new_cell.fill = copy(cell.fill)\n",
    "            new_cell.number_format = copy(cell.number_format)\n",
    "            new_cell.protection = copy(cell.protection)\n",
    "            new_cell.alignment = copy(cell.alignment)\n",
    "\n",
    "# save the Excel file\n",
    "wb.save(output_file)\n",
    "\n",
    "file_path = output_file\n",
    "os.startfile(file_path)\n"
   ]
  }
 ],
 "metadata": {
  "kernelspec": {
   "display_name": "base",
   "language": "python",
   "name": "python3"
  },
  "language_info": {
   "codemirror_mode": {
    "name": "ipython",
    "version": 3
   },
   "file_extension": ".py",
   "mimetype": "text/x-python",
   "name": "python",
   "nbconvert_exporter": "python",
   "pygments_lexer": "ipython3",
   "version": "3.9.12"
  },
  "orig_nbformat": 4
 },
 "nbformat": 4,
 "nbformat_minor": 2
}
